{
 "cells": [
  {
   "cell_type": "code",
   "execution_count": 1,
   "metadata": {},
   "outputs": [],
   "source": [
    "%matplotlib widget"
   ]
  },
  {
   "cell_type": "code",
   "execution_count": 2,
   "metadata": {},
   "outputs": [],
   "source": [
    "import numpy as np\n",
    "\n",
    "import matplotlib\n",
    "import matplotlib.pyplot as plt\n",
    "from matplotlib.patches import Polygon\n",
    "from matplotlib.collections import PatchCollection\n",
    "\n",
    "import random\n",
    "\n",
    "import csv\n",
    "import json\n",
    "from PIL import Image\n",
    "\n",
    "\n",
    "import image_utils\n",
    "\n",
    "Image.MAX_IMAGE_PIXELS = None"
   ]
  },
  {
   "cell_type": "code",
   "execution_count": 17,
   "metadata": {},
   "outputs": [],
   "source": [
    "def plot_hist(sample_id, ax):\n",
    "    rle = image_utils.get_rle(sample_id)\n",
    "    widths = []\n",
    "\n",
    "    for loc, run in rle:\n",
    "        widths.append(run)\n",
    "    w_a = np.asarray(widths)\n",
    "    \n",
    "    ax.hist(w_a, bins = range(0, 700, 10), alpha=0.1)\n",
    "    "
   ]
  },
  {
   "cell_type": "code",
   "execution_count": 18,
   "metadata": {},
   "outputs": [
    {
     "data": {
      "application/vnd.jupyter.widget-view+json": {
       "model_id": "49cba345311348d98a6e8397ca6a7ef3",
       "version_major": 2,
       "version_minor": 0
      },
      "text/plain": [
       "Canvas(toolbar=Toolbar(toolitems=[('Home', 'Reset original view', 'home', 'home'), ('Back', 'Back to previous …"
      ]
     },
     "metadata": {},
     "output_type": "display_data"
    },
    {
     "name": "stdout",
     "output_type": "stream",
     "text": [
      "821559662\n",
      "1162460823\n",
      "840241941\n",
      "738304175\n",
      "619068201\n",
      "204347435\n",
      "1367471297\n",
      "402018201\n"
     ]
    }
   ],
   "source": [
    "strings = [\"0486052bb\",\n",
    "        \"095bf7a1f\",\n",
    "        \"1e2425f28\",\n",
    "        \"2f6ecfcdf\",\n",
    "        \"54f2eec69\",\n",
    "        \"aaa6a05cc\",\n",
    "        \"cb2d976f4\",\n",
    "        \"e79de561c\",\n",
    "        ]\n",
    "fig,ax = plt.subplots()\n",
    "\n",
    "for sid in strings:\n",
    "    plot_hist(sid, ax)"
   ]
  },
  {
   "cell_type": "code",
   "execution_count": 11,
   "metadata": {},
   "outputs": [],
   "source": [
    "plt.show()"
   ]
  },
  {
   "cell_type": "code",
   "execution_count": null,
   "metadata": {},
   "outputs": [],
   "source": []
  }
 ],
 "metadata": {
  "kernelspec": {
   "display_name": "Python 3",
   "language": "python",
   "name": "python3"
  },
  "language_info": {
   "codemirror_mode": {
    "name": "ipython",
    "version": 3
   },
   "file_extension": ".py",
   "mimetype": "text/x-python",
   "name": "python",
   "nbconvert_exporter": "python",
   "pygments_lexer": "ipython3",
   "version": "3.6.12"
  }
 },
 "nbformat": 4,
 "nbformat_minor": 4
}
