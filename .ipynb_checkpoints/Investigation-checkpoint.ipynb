{
 "cells": [
  {
   "cell_type": "code",
   "execution_count": 1,
   "metadata": {},
   "outputs": [],
   "source": [
    "%matplotlib widget"
   ]
  },
  {
   "cell_type": "code",
   "execution_count": 2,
   "metadata": {},
   "outputs": [],
   "source": [
    "import numpy as np\n",
    "\n",
    "import matplotlib\n",
    "import matplotlib.pyplot as plt\n",
    "from matplotlib.patches import Polygon\n",
    "from matplotlib.collections import PatchCollection\n",
    "\n",
    "import random\n",
    "\n",
    "import csv\n",
    "import json\n",
    "from PIL import Image\n",
    "\n",
    "\n",
    "import image_utils\n",
    "\n",
    "Image.MAX_IMAGE_PIXELS = None"
   ]
  },
  {
   "cell_type": "code",
   "execution_count": 3,
   "metadata": {},
   "outputs": [],
   "source": [
    "strings = [\"0486052bb\",\n",
    "    \"095bf7a1f\",\n",
    "    \"1e2425f28\",\n",
    "    \"2f6ecfcdf\",\n",
    "    \"54f2eec69\",\n",
    "    \"aaa6a05cc\",\n",
    "    \"cb2d976f4\",\n",
    "    \"e79de561c\",\n",
    "    ]\n",
    "db = \"./DB\"\n",
    "sample_id = \"e79de561c\"\n",
    "sample = db + \"/train/\" + sample_id\n",
    "sample_image = Image.open(sample+\".tiff\")\n",
    "with open(sample+\".json\") as sample_json_file:\n",
    "    sample_json = json.load(sample_json_file)"
   ]
  },
  {
   "cell_type": "code",
   "execution_count": 4,
   "metadata": {},
   "outputs": [
    {
     "name": "stdout",
     "output_type": "stream",
     "text": [
      "(4954, 3494)\n"
     ]
    }
   ],
   "source": [
    "sample_image_size = sample_image.size\n",
    "d_sample_image = sample_image.resize((int(sample_image.size[0]*0.1), int(sample_image.size[1]*0.1)))\n",
    "print(d_sample_image.size)\n"
   ]
  },
  {
   "cell_type": "code",
   "execution_count": 39,
   "metadata": {},
   "outputs": [
    {
     "data": {
      "application/vnd.jupyter.widget-view+json": {
       "model_id": "7360439c29c942408b7c3d0b49506f8f",
       "version_major": 2,
       "version_minor": 0
      },
      "text/plain": [
       "Canvas(toolbar=Toolbar(toolitems=[('Home', 'Reset original view', 'home', 'home'), ('Back', 'Back to previous …"
      ]
     },
     "metadata": {},
     "output_type": "display_data"
    },
    {
     "data": {
      "text/plain": [
       "<matplotlib.image.AxesImage at 0x7ff82608d9b0>"
      ]
     },
     "execution_count": 39,
     "metadata": {},
     "output_type": "execute_result"
    }
   ],
   "source": [
    "fig1 = plt.figure()\n",
    "ax1 = fig1.add_subplot()\n",
    "ax1.imshow(d_sample_image)"
   ]
  },
  {
   "cell_type": "code",
   "execution_count": 40,
   "metadata": {},
   "outputs": [],
   "source": [
    "try:\n",
    "    poly_collection_artist.remove()\n",
    "except:\n",
    "    pass\n",
    "max_samples = None\n",
    "patches = []\n",
    "for elem in random.sample(sample_json, len(sample_json))[:max_samples]:\n",
    "    if elem[\"type\"] != \"Feature\":\n",
    "        print(elem)\n",
    "    coords = np.asarray(elem[\"geometry\"]['coordinates'])[0]/10.0\n",
    "    poly = Polygon(coords)\n",
    "    patches.append(poly)\n",
    "\n",
    "p = PatchCollection(patches, cmap=matplotlib.cm.jet, alpha=0.4)\n",
    "\n",
    "poly_collection_artist = ax1.add_collection(p)\n"
   ]
  },
  {
   "cell_type": "code",
   "execution_count": 18,
   "metadata": {},
   "outputs": [],
   "source": [
    "flat_size = sample_image_size[0] * sample_image_size[1]\n",
    "full_mask = np.zeros([flat_size])\n",
    "mask = image_utils.get_rasterized_mask(sample_id)"
   ]
  },
  {
   "cell_type": "code",
   "execution_count": 19,
   "metadata": {},
   "outputs": [],
   "source": [
    "full_mask[:mask.shape[0]] = mask"
   ]
  },
  {
   "cell_type": "code",
   "execution_count": 20,
   "metadata": {},
   "outputs": [],
   "source": [
    "full_mask = np.reshape(full_mask, sample_image_size).T"
   ]
  },
  {
   "cell_type": "code",
   "execution_count": 34,
   "metadata": {},
   "outputs": [],
   "source": [
    "tenth_mask = full_mask[::10, ::10]"
   ]
  },
  {
   "cell_type": "code",
   "execution_count": 35,
   "metadata": {},
   "outputs": [],
   "source": [
    "tenth_mask = tenth_mask * 255"
   ]
  },
  {
   "cell_type": "code",
   "execution_count": 37,
   "metadata": {},
   "outputs": [],
   "source": [
    "mask_im = Image.fromarray(tenth_mask)\n",
    "# r_mask_im = mask_im.resize((int(sample_image.size[0]*0.1), int(sample_image.size[1]*0.1)))"
   ]
  },
  {
   "cell_type": "code",
   "execution_count": 38,
   "metadata": {},
   "outputs": [
    {
     "data": {
      "text/plain": [
       "<matplotlib.image.AxesImage at 0x7ff81e69c630>"
      ]
     },
     "execution_count": 38,
     "metadata": {},
     "output_type": "execute_result"
    }
   ],
   "source": [
    "ax1.imshow(mask_im)"
   ]
  },
  {
   "cell_type": "code",
   "execution_count": null,
   "metadata": {},
   "outputs": [],
   "source": []
  },
  {
   "cell_type": "code",
   "execution_count": null,
   "metadata": {},
   "outputs": [],
   "source": []
  }
 ],
 "metadata": {
  "kernelspec": {
   "display_name": "Python 3",
   "language": "python",
   "name": "python3"
  },
  "language_info": {
   "codemirror_mode": {
    "name": "ipython",
    "version": 3
   },
   "file_extension": ".py",
   "mimetype": "text/x-python",
   "name": "python",
   "nbconvert_exporter": "python",
   "pygments_lexer": "ipython3",
   "version": "3.6.12"
  }
 },
 "nbformat": 4,
 "nbformat_minor": 4
}
