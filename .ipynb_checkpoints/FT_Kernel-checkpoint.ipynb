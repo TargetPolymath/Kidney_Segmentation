{
 "cells": [
  {
   "cell_type": "code",
   "execution_count": 1,
   "metadata": {},
   "outputs": [],
   "source": [
    "%matplotlib widget"
   ]
  },
  {
   "cell_type": "code",
   "execution_count": 2,
   "metadata": {},
   "outputs": [],
   "source": [
    "import numpy as np\n",
    "\n",
    "import matplotlib\n",
    "import matplotlib.pyplot as plt\n",
    "from matplotlib.patches import Polygon\n",
    "from matplotlib.collections import PatchCollection\n",
    "\n",
    "import random\n",
    "\n",
    "import csv\n",
    "import json\n",
    "from PIL import Image\n",
    "\n",
    "from scipy import signal\n",
    "from scipy import misc\n",
    "\n",
    "import math\n",
    "\n",
    "import image_utils\n",
    "\n",
    "import time\n",
    "\n",
    "Image.MAX_IMAGE_PIXELS = None"
   ]
  },
  {
   "cell_type": "code",
   "execution_count": 3,
   "metadata": {},
   "outputs": [],
   "source": [
    "strings = [\"0486052bb\",\n",
    "    \"095bf7a1f\",\n",
    "    \"1e2425f28\",\n",
    "    \"2f6ecfcdf\",\n",
    "    \"54f2eec69\",\n",
    "    \"aaa6a05cc\",\n",
    "    \"cb2d976f4\",\n",
    "    \"e79de561c\",\n",
    "    ]\n",
    "db = \"./DB\"\n",
    "sample_id = \"e79de561c\"\n",
    "sample = db + \"/train/\" + sample_id\n",
    "sample_image = Image.open(sample+\".tiff\")\n",
    "with open(sample+\".json\") as sample_json_file:\n",
    "    sample_json = json.load(sample_json_file)"
   ]
  },
  {
   "cell_type": "code",
   "execution_count": 4,
   "metadata": {},
   "outputs": [
    {
     "data": {
      "application/vnd.jupyter.widget-view+json": {
       "model_id": "a9ab9a9c260e475fb963e4df3de9d44b",
       "version_major": 2,
       "version_minor": 0
      },
      "text/plain": [
       "Canvas(toolbar=Toolbar(toolitems=[('Home', 'Reset original view', 'home', 'home'), ('Back', 'Back to previous …"
      ]
     },
     "metadata": {},
     "output_type": "display_data"
    }
   ],
   "source": [
    "fig, ax = plt.subplots()"
   ]
  },
  {
   "cell_type": "code",
   "execution_count": 5,
   "metadata": {},
   "outputs": [],
   "source": [
    "def evaluate_single_FT_Kernel(span, FT_amp):\n",
    "    \"\"\"\n",
    "    Center: The [x, y] coordinates where the center of the FT-Kernel will be\n",
    "    Span:   The 'radius' of the bouding region where the FT-Kernel will be evaluated\n",
    "    FT_Amp: A 2xN array of amplitudes representing sine waves that oscillate n times within the span\n",
    "    \n",
    "    TODO: Rebuild so each 'pixel' is the integral of the sine wave it overlaps\n",
    "    \"\"\"\n",
    "    # Building the Kernel\n",
    "    h_linspace = np.linspace(0, 2*np.pi, num=span+1)\n",
    "    v_linspace = h_linspace\n",
    "\n",
    "    \n",
    "    def subcell_evaluation(freq, amp, samples):\n",
    "        # Evaluate the integral of the sine wave over the given linear space\n",
    "        # Integral of sine is negative cosine\n",
    "        # Integrate from halfpitch below to halfpitch above\n",
    "        \n",
    "        lower_sum = -np.cos(samples[:-1]*(freq+1)*0.5)\n",
    "        upper_sum = -np.cos(samples[1:]*(freq+1)*0.5)\n",
    "        \n",
    "        result = (upper_sum - lower_sum)*amp\n",
    "        return result\n",
    "        \n",
    "\n",
    "        \n",
    "    \n",
    "    # lf_lambda = lambda freq, amp: np.sin(h_linspace*(freq+1)*0.5) * amp\n",
    "    \n",
    "    h_contrib = np.sum(np.stack([subcell_evaluation(freq, amp, h_linspace) for freq, amp in enumerate(FT_amp[0, :span//2])]), axis=0)\n",
    "    h_region = np.stack([h_contrib]*span)\n",
    "    print(h_region.shape)\n",
    "    \n",
    "\n",
    "    v_contrib = np.sum(np.stack([subcell_evaluation(freq, amp, v_linspace) for freq, amp in enumerate(FT_amp[1, :span//2])]), axis=0)\n",
    "    v_region = np.stack([v_contrib]*span).T\n",
    "    print(v_region.shape)\n",
    "    \n",
    "    \n",
    "    ft_kernel = h_region + v_region\n",
    "\n",
    "    \n",
    "    \n",
    "    return ft_kernel"
   ]
  },
  {
   "cell_type": "code",
   "execution_count": 6,
   "metadata": {},
   "outputs": [
    {
     "name": "stdout",
     "output_type": "stream",
     "text": [
      "(3, 3)\n",
      "(3, 3)\n",
      "(3, 3)\n"
     ]
    }
   ],
   "source": [
    "span = 3\n",
    "FT_amp = np.array([[0, 1],\n",
    "                   [0, 1]])\n",
    "ft_kernel = evaluate_single_FT_Kernel(span, FT_amp)\n",
    "print(ft_kernel.shape)"
   ]
  },
  {
   "cell_type": "code",
   "execution_count": 7,
   "metadata": {},
   "outputs": [
    {
     "data": {
      "text/plain": [
       "<matplotlib.image.AxesImage at 0x7f4a164919b0>"
      ]
     },
     "execution_count": 7,
     "metadata": {},
     "output_type": "execute_result"
    }
   ],
   "source": [
    "ax.matshow(ft_kernel)"
   ]
  },
  {
   "cell_type": "code",
   "execution_count": 8,
   "metadata": {},
   "outputs": [],
   "source": [
    "image_array = np.asarray(sample_image)"
   ]
  },
  {
   "cell_type": "code",
   "execution_count": 9,
   "metadata": {},
   "outputs": [
    {
     "name": "stdout",
     "output_type": "stream",
     "text": [
      "(16180, 27020, 3)\n"
     ]
    }
   ],
   "source": [
    "print(image_array.shape)"
   ]
  },
  {
   "cell_type": "code",
   "execution_count": 10,
   "metadata": {},
   "outputs": [
    {
     "name": "stdout",
     "output_type": "stream",
     "text": [
      "24.16814923286438\n"
     ]
    }
   ],
   "source": [
    "start_time = time.time()\n",
    "kif = signal.convolve2d(image_array[:, :, 0], ft_kernel)\n",
    "duration = time.time() - start_time\n",
    "print(duration)"
   ]
  },
  {
   "cell_type": "code",
   "execution_count": 11,
   "metadata": {},
   "outputs": [
    {
     "name": "stdout",
     "output_type": "stream",
     "text": [
      "(16182, 27022)\n"
     ]
    }
   ],
   "source": [
    "print(kif.shape)"
   ]
  },
  {
   "cell_type": "code",
   "execution_count": 2,
   "metadata": {},
   "outputs": [
    {
     "ename": "NameError",
     "evalue": "name 'plt' is not defined",
     "output_type": "error",
     "traceback": [
      "\u001b[0;31m---------------------------------------------------------------------------\u001b[0m",
      "\u001b[0;31mNameError\u001b[0m                                 Traceback (most recent call last)",
      "\u001b[0;32m<ipython-input-2-0b4622c4416e>\u001b[0m in \u001b[0;36m<module>\u001b[0;34m()\u001b[0m\n\u001b[0;32m----> 1\u001b[0;31m \u001b[0mfig2\u001b[0m\u001b[0;34m,\u001b[0m \u001b[0max2\u001b[0m \u001b[0;34m=\u001b[0m \u001b[0mplt\u001b[0m\u001b[0;34m.\u001b[0m\u001b[0msubplots\u001b[0m\u001b[0;34m(\u001b[0m\u001b[0;34m)\u001b[0m\u001b[0;34m\u001b[0m\u001b[0;34m\u001b[0m\u001b[0m\n\u001b[0m",
      "\u001b[0;31mNameError\u001b[0m: name 'plt' is not defined"
     ]
    }
   ],
   "source": [
    "fig2, ax2 = plt.subplots()"
   ]
  },
  {
   "cell_type": "code",
   "execution_count": 1,
   "metadata": {},
   "outputs": [
    {
     "ename": "NameError",
     "evalue": "name 'ax2' is not defined",
     "output_type": "error",
     "traceback": [
      "\u001b[0;31m---------------------------------------------------------------------------\u001b[0m",
      "\u001b[0;31mNameError\u001b[0m                                 Traceback (most recent call last)",
      "\u001b[0;32m<ipython-input-1-161f04b6ad6a>\u001b[0m in \u001b[0;36m<module>\u001b[0;34m()\u001b[0m\n\u001b[0;32m----> 1\u001b[0;31m \u001b[0max2\u001b[0m\u001b[0;34m.\u001b[0m\u001b[0mimshow\u001b[0m\u001b[0;34m(\u001b[0m\u001b[0mkif\u001b[0m\u001b[0;34m)\u001b[0m\u001b[0;34m\u001b[0m\u001b[0;34m\u001b[0m\u001b[0m\n\u001b[0m",
      "\u001b[0;31mNameError\u001b[0m: name 'ax2' is not defined"
     ]
    }
   ],
   "source": [
    "ax2.imshow(kif)"
   ]
  },
  {
   "cell_type": "code",
   "execution_count": 14,
   "metadata": {},
   "outputs": [],
   "source": [
    "def smart_eval_ft_kernel(span, ft_amp, array):\n",
    "    result = np.zeros_like(array)\n",
    "    \n",
    "    h_linspace = np.linspace(0, 2*np.pi*(array.shape[0]/span), array.shape[0])\n",
    "    v_linspace = np.linspace(0, 2*np.pi*(array.shape[1]/span), array.shape[1])\n",
    "    \n",
    "    for freq, amp_pair in enumerate(ft_amp.T):\n",
    "        if np.any(amp_pair):\n",
    "            h_part = \n",
    "            result += np.sin(grid_x*(freq+1))*amp_pair[0]*array\n",
    "            result += (np.sin(grid_y*(freq+1))*amp_pair[1]).T*array\n",
    "            "
   ]
  },
  {
   "cell_type": "code",
   "execution_count": 15,
   "metadata": {},
   "outputs": [],
   "source": [
    "smart_eval_ft_kernel(span, FT_amp, image_array[:, :, 0])"
   ]
  },
  {
   "cell_type": "code",
   "execution_count": null,
   "metadata": {},
   "outputs": [],
   "source": []
  }
 ],
 "metadata": {
  "kernelspec": {
   "display_name": "Python 3",
   "language": "python",
   "name": "python3"
  },
  "language_info": {
   "codemirror_mode": {
    "name": "ipython",
    "version": 3
   },
   "file_extension": ".py",
   "mimetype": "text/x-python",
   "name": "python",
   "nbconvert_exporter": "python",
   "pygments_lexer": "ipython3",
   "version": "3.6.12"
  }
 },
 "nbformat": 4,
 "nbformat_minor": 4
}
